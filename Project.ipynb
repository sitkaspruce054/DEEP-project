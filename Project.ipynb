{
  "nbformat": 4,
  "nbformat_minor": 0,
  "metadata": {
    "colab": {
      "provenance": [],
      "toc_visible": true
    },
    "kernelspec": {
      "name": "python3",
      "display_name": "Python 3"
    },
    "language_info": {
      "name": "python"
    }
  },
  "cells": [
    {
      "cell_type": "markdown",
      "source": [
        "# 0. Import Packages & Load Data"
      ],
      "metadata": {
        "id": "g-uWzRt_PSsN"
      }
    },
    {
      "cell_type": "code",
      "execution_count": null,
      "metadata": {
        "colab": {
          "base_uri": "https://localhost:8080/"
        },
        "id": "3cKxDQaHNYej",
        "outputId": "f9678277-4c61-49a2-e6c6-f6d0e4d88492"
      },
      "outputs": [
        {
          "output_type": "stream",
          "name": "stdout",
          "text": [
            "Mounted at /content/drive\n"
          ]
        }
      ],
      "source": [
        "# import packages\n",
        "import pandas as pd\n",
        "from google.colab import drive # allow google drive integration\n",
        "drive.mount('/content/drive')\n",
        "import sklearn\n",
        "import numpy as np\n",
        "import matplotlib.pyplot as plt\n",
        "import seaborn as sns\n"
      ]
    },
    {
      "cell_type": "code",
      "source": [
        "# load in data\n",
        "df = pd.read_csv('/content/drive/Shareddrives/DEEP 2022/Project/clean_lead.csv')\n",
        "df.head()\n",
        "#df[['Pct5']]"
      ],
      "metadata": {
        "colab": {
          "base_uri": "https://localhost:8080/",
          "height": 235
        },
        "id": "F5rsVCyFOIq5",
        "outputId": "2f4b6d67-71b9-4f4c-ee49-a86557a0b07f"
      },
      "execution_count": null,
      "outputs": [
        {
          "output_type": "execute_result",
          "data": {
            "text/plain": [
              "   Unnamed: 0       GEO_ID  Poverty  Bachelor  White  White-NH  Black  \\\n",
              "0           0  42101000100     11.7      79.8   77.2      73.6   10.5   \n",
              "1           1  42101000402     10.7      74.5   90.0      88.4    2.0   \n",
              "2           3  42101000700     28.8      77.5   65.8      59.1   11.0   \n",
              "3           4  42101000803     14.9      85.3   90.6      88.3    0.5   \n",
              "4           5  42101000804      7.2      80.9   84.4      70.9    2.6   \n",
              "\n",
              "   Black-NH  Asian  Asian-NH  ...  Black-H  Asian-H  AmericanIndian-H  NHPI-H  \\\n",
              "0      10.5    8.6       8.6  ...      0.0      0.0               0.0     0.0   \n",
              "1       2.0    7.6       7.6  ...      0.0      0.0               0.0     0.0   \n",
              "2      11.0   22.0      21.5  ...      0.0      0.5               0.0     0.0   \n",
              "3       0.5    5.0       5.0  ...      0.0      0.0               0.0     0.0   \n",
              "4       2.6   10.8      10.8  ...      0.0      0.0               0.0     0.0   \n",
              "\n",
              "   Other-H  Multi-H  OldHousing  NumBll5Plus  NumScreen  Pct5Plus  \n",
              "0      1.8      0.0        65.7          0.0      100.0       0.0  \n",
              "1      0.0      0.0        19.3          0.0       41.0       0.0  \n",
              "2      0.0      0.0        53.0          0.0       57.0       0.0  \n",
              "3      0.0      0.0        36.0          0.0       63.0       0.0  \n",
              "4      0.0      0.0        41.7          0.0       86.0       0.0  \n",
              "\n",
              "[5 rows x 34 columns]"
            ],
            "text/html": [
              "\n",
              "  <div id=\"df-bcc8cc98-8c8e-4981-a967-8854718e7a9b\">\n",
              "    <div class=\"colab-df-container\">\n",
              "      <div>\n",
              "<style scoped>\n",
              "    .dataframe tbody tr th:only-of-type {\n",
              "        vertical-align: middle;\n",
              "    }\n",
              "\n",
              "    .dataframe tbody tr th {\n",
              "        vertical-align: top;\n",
              "    }\n",
              "\n",
              "    .dataframe thead th {\n",
              "        text-align: right;\n",
              "    }\n",
              "</style>\n",
              "<table border=\"1\" class=\"dataframe\">\n",
              "  <thead>\n",
              "    <tr style=\"text-align: right;\">\n",
              "      <th></th>\n",
              "      <th>Unnamed: 0</th>\n",
              "      <th>GEO_ID</th>\n",
              "      <th>Poverty</th>\n",
              "      <th>Bachelor</th>\n",
              "      <th>White</th>\n",
              "      <th>White-NH</th>\n",
              "      <th>Black</th>\n",
              "      <th>Black-NH</th>\n",
              "      <th>Asian</th>\n",
              "      <th>Asian-NH</th>\n",
              "      <th>...</th>\n",
              "      <th>Black-H</th>\n",
              "      <th>Asian-H</th>\n",
              "      <th>AmericanIndian-H</th>\n",
              "      <th>NHPI-H</th>\n",
              "      <th>Other-H</th>\n",
              "      <th>Multi-H</th>\n",
              "      <th>OldHousing</th>\n",
              "      <th>NumBll5Plus</th>\n",
              "      <th>NumScreen</th>\n",
              "      <th>Pct5Plus</th>\n",
              "    </tr>\n",
              "  </thead>\n",
              "  <tbody>\n",
              "    <tr>\n",
              "      <th>0</th>\n",
              "      <td>0</td>\n",
              "      <td>42101000100</td>\n",
              "      <td>11.7</td>\n",
              "      <td>79.8</td>\n",
              "      <td>77.2</td>\n",
              "      <td>73.6</td>\n",
              "      <td>10.5</td>\n",
              "      <td>10.5</td>\n",
              "      <td>8.6</td>\n",
              "      <td>8.6</td>\n",
              "      <td>...</td>\n",
              "      <td>0.0</td>\n",
              "      <td>0.0</td>\n",
              "      <td>0.0</td>\n",
              "      <td>0.0</td>\n",
              "      <td>1.8</td>\n",
              "      <td>0.0</td>\n",
              "      <td>65.7</td>\n",
              "      <td>0.0</td>\n",
              "      <td>100.0</td>\n",
              "      <td>0.0</td>\n",
              "    </tr>\n",
              "    <tr>\n",
              "      <th>1</th>\n",
              "      <td>1</td>\n",
              "      <td>42101000402</td>\n",
              "      <td>10.7</td>\n",
              "      <td>74.5</td>\n",
              "      <td>90.0</td>\n",
              "      <td>88.4</td>\n",
              "      <td>2.0</td>\n",
              "      <td>2.0</td>\n",
              "      <td>7.6</td>\n",
              "      <td>7.6</td>\n",
              "      <td>...</td>\n",
              "      <td>0.0</td>\n",
              "      <td>0.0</td>\n",
              "      <td>0.0</td>\n",
              "      <td>0.0</td>\n",
              "      <td>0.0</td>\n",
              "      <td>0.0</td>\n",
              "      <td>19.3</td>\n",
              "      <td>0.0</td>\n",
              "      <td>41.0</td>\n",
              "      <td>0.0</td>\n",
              "    </tr>\n",
              "    <tr>\n",
              "      <th>2</th>\n",
              "      <td>3</td>\n",
              "      <td>42101000700</td>\n",
              "      <td>28.8</td>\n",
              "      <td>77.5</td>\n",
              "      <td>65.8</td>\n",
              "      <td>59.1</td>\n",
              "      <td>11.0</td>\n",
              "      <td>11.0</td>\n",
              "      <td>22.0</td>\n",
              "      <td>21.5</td>\n",
              "      <td>...</td>\n",
              "      <td>0.0</td>\n",
              "      <td>0.5</td>\n",
              "      <td>0.0</td>\n",
              "      <td>0.0</td>\n",
              "      <td>0.0</td>\n",
              "      <td>0.0</td>\n",
              "      <td>53.0</td>\n",
              "      <td>0.0</td>\n",
              "      <td>57.0</td>\n",
              "      <td>0.0</td>\n",
              "    </tr>\n",
              "    <tr>\n",
              "      <th>3</th>\n",
              "      <td>4</td>\n",
              "      <td>42101000803</td>\n",
              "      <td>14.9</td>\n",
              "      <td>85.3</td>\n",
              "      <td>90.6</td>\n",
              "      <td>88.3</td>\n",
              "      <td>0.5</td>\n",
              "      <td>0.5</td>\n",
              "      <td>5.0</td>\n",
              "      <td>5.0</td>\n",
              "      <td>...</td>\n",
              "      <td>0.0</td>\n",
              "      <td>0.0</td>\n",
              "      <td>0.0</td>\n",
              "      <td>0.0</td>\n",
              "      <td>0.0</td>\n",
              "      <td>0.0</td>\n",
              "      <td>36.0</td>\n",
              "      <td>0.0</td>\n",
              "      <td>63.0</td>\n",
              "      <td>0.0</td>\n",
              "    </tr>\n",
              "    <tr>\n",
              "      <th>4</th>\n",
              "      <td>5</td>\n",
              "      <td>42101000804</td>\n",
              "      <td>7.2</td>\n",
              "      <td>80.9</td>\n",
              "      <td>84.4</td>\n",
              "      <td>70.9</td>\n",
              "      <td>2.6</td>\n",
              "      <td>2.6</td>\n",
              "      <td>10.8</td>\n",
              "      <td>10.8</td>\n",
              "      <td>...</td>\n",
              "      <td>0.0</td>\n",
              "      <td>0.0</td>\n",
              "      <td>0.0</td>\n",
              "      <td>0.0</td>\n",
              "      <td>0.0</td>\n",
              "      <td>0.0</td>\n",
              "      <td>41.7</td>\n",
              "      <td>0.0</td>\n",
              "      <td>86.0</td>\n",
              "      <td>0.0</td>\n",
              "    </tr>\n",
              "  </tbody>\n",
              "</table>\n",
              "<p>5 rows × 34 columns</p>\n",
              "</div>\n",
              "      <button class=\"colab-df-convert\" onclick=\"convertToInteractive('df-bcc8cc98-8c8e-4981-a967-8854718e7a9b')\"\n",
              "              title=\"Convert this dataframe to an interactive table.\"\n",
              "              style=\"display:none;\">\n",
              "        \n",
              "  <svg xmlns=\"http://www.w3.org/2000/svg\" height=\"24px\"viewBox=\"0 0 24 24\"\n",
              "       width=\"24px\">\n",
              "    <path d=\"M0 0h24v24H0V0z\" fill=\"none\"/>\n",
              "    <path d=\"M18.56 5.44l.94 2.06.94-2.06 2.06-.94-2.06-.94-.94-2.06-.94 2.06-2.06.94zm-11 1L8.5 8.5l.94-2.06 2.06-.94-2.06-.94L8.5 2.5l-.94 2.06-2.06.94zm10 10l.94 2.06.94-2.06 2.06-.94-2.06-.94-.94-2.06-.94 2.06-2.06.94z\"/><path d=\"M17.41 7.96l-1.37-1.37c-.4-.4-.92-.59-1.43-.59-.52 0-1.04.2-1.43.59L10.3 9.45l-7.72 7.72c-.78.78-.78 2.05 0 2.83L4 21.41c.39.39.9.59 1.41.59.51 0 1.02-.2 1.41-.59l7.78-7.78 2.81-2.81c.8-.78.8-2.07 0-2.86zM5.41 20L4 18.59l7.72-7.72 1.47 1.35L5.41 20z\"/>\n",
              "  </svg>\n",
              "      </button>\n",
              "      \n",
              "  <style>\n",
              "    .colab-df-container {\n",
              "      display:flex;\n",
              "      flex-wrap:wrap;\n",
              "      gap: 12px;\n",
              "    }\n",
              "\n",
              "    .colab-df-convert {\n",
              "      background-color: #E8F0FE;\n",
              "      border: none;\n",
              "      border-radius: 50%;\n",
              "      cursor: pointer;\n",
              "      display: none;\n",
              "      fill: #1967D2;\n",
              "      height: 32px;\n",
              "      padding: 0 0 0 0;\n",
              "      width: 32px;\n",
              "    }\n",
              "\n",
              "    .colab-df-convert:hover {\n",
              "      background-color: #E2EBFA;\n",
              "      box-shadow: 0px 1px 2px rgba(60, 64, 67, 0.3), 0px 1px 3px 1px rgba(60, 64, 67, 0.15);\n",
              "      fill: #174EA6;\n",
              "    }\n",
              "\n",
              "    [theme=dark] .colab-df-convert {\n",
              "      background-color: #3B4455;\n",
              "      fill: #D2E3FC;\n",
              "    }\n",
              "\n",
              "    [theme=dark] .colab-df-convert:hover {\n",
              "      background-color: #434B5C;\n",
              "      box-shadow: 0px 1px 3px 1px rgba(0, 0, 0, 0.15);\n",
              "      filter: drop-shadow(0px 1px 2px rgba(0, 0, 0, 0.3));\n",
              "      fill: #FFFFFF;\n",
              "    }\n",
              "  </style>\n",
              "\n",
              "      <script>\n",
              "        const buttonEl =\n",
              "          document.querySelector('#df-bcc8cc98-8c8e-4981-a967-8854718e7a9b button.colab-df-convert');\n",
              "        buttonEl.style.display =\n",
              "          google.colab.kernel.accessAllowed ? 'block' : 'none';\n",
              "\n",
              "        async function convertToInteractive(key) {\n",
              "          const element = document.querySelector('#df-bcc8cc98-8c8e-4981-a967-8854718e7a9b');\n",
              "          const dataTable =\n",
              "            await google.colab.kernel.invokeFunction('convertToInteractive',\n",
              "                                                     [key], {});\n",
              "          if (!dataTable) return;\n",
              "\n",
              "          const docLinkHtml = 'Like what you see? Visit the ' +\n",
              "            '<a target=\"_blank\" href=https://colab.research.google.com/notebooks/data_table.ipynb>data table notebook</a>'\n",
              "            + ' to learn more about interactive tables.';\n",
              "          element.innerHTML = '';\n",
              "          dataTable['output_type'] = 'display_data';\n",
              "          await google.colab.output.renderOutput(dataTable, element);\n",
              "          const docLink = document.createElement('div');\n",
              "          docLink.innerHTML = docLinkHtml;\n",
              "          element.appendChild(docLink);\n",
              "        }\n",
              "      </script>\n",
              "    </div>\n",
              "  </div>\n",
              "  "
            ]
          },
          "metadata": {},
          "execution_count": 3
        }
      ]
    },
    {
      "cell_type": "markdown",
      "source": [
        "# 1. Data Cleaning"
      ],
      "metadata": {
        "id": "uyUAMBD-PEQV"
      }
    },
    {
      "cell_type": "markdown",
      "source": [
        "Cleaning ideas:\n",
        "1. Let's first explore the types of data in our dataset: bold text we have a bunch of floats, 1 integer, and 1 boolean\n",
        "2. Do we have null entries? We have no NaN entries at all! bold text We do have a lot of zeroes, but them seem to be meaningful zeroes. \n",
        "3. How many people are surveyed for each GEO_ID? Where should we set our threshold for too few surveyed? In 2 of the 251 regions, fewer than 8 children were surveyed for blood lead levels. In 31 of the 251 regions, fewer than 100 children were surveyed. Set up a way to select only rows with a minimum number of children surveyed.\n",
        "4. Remove columns that appear to not be useful. Removed the \"IsRedacted\" column because it is not useful to us.\n",
        "5. Compared Asian to AsianNH + AsianH. The values match up!"
      ],
      "metadata": {
        "id": "nqqgEJU8S0hE"
      }
    },
    {
      "cell_type": "code",
      "source": [
        "#summary of the cleaning we decided to do. See below for more details\n",
        "df.drop(labels=[\"IsRedacted\"], axis=1, inplace=True)\n",
        "\n",
        "cutoff_point = 30 #desired minimum number of chilren screened in a given GEO_ID\n",
        "df_selected = df[df['NumScreen'] >= cutoff_point]\n",
        "df_selected['NumScreen'].sort_values()\n",
        "\n",
        "df_selected.to_csv('/content/drive/Shareddrives/DEEP 2022/Project/clean_lead.csv')"
      ],
      "metadata": {
        "id": "x6s17M3mdhhT",
        "colab": {
          "base_uri": "https://localhost:8080/",
          "height": 380
        },
        "outputId": "65d8c016-b56a-47b8-bf8b-1422fef9314f"
      },
      "execution_count": null,
      "outputs": [
        {
          "output_type": "error",
          "ename": "KeyError",
          "evalue": "ignored",
          "traceback": [
            "\u001b[0;31m---------------------------------------------------------------------------\u001b[0m",
            "\u001b[0;31mKeyError\u001b[0m                                  Traceback (most recent call last)",
            "\u001b[0;32m<ipython-input-17-044029f1d898>\u001b[0m in \u001b[0;36m<module>\u001b[0;34m\u001b[0m\n\u001b[1;32m      1\u001b[0m \u001b[0;31m#summary of the cleaning we decided to do. See below for more details\u001b[0m\u001b[0;34m\u001b[0m\u001b[0;34m\u001b[0m\u001b[0;34m\u001b[0m\u001b[0m\n\u001b[0;32m----> 2\u001b[0;31m \u001b[0mdf\u001b[0m\u001b[0;34m.\u001b[0m\u001b[0mdrop\u001b[0m\u001b[0;34m(\u001b[0m\u001b[0mlabels\u001b[0m\u001b[0;34m=\u001b[0m\u001b[0;34m[\u001b[0m\u001b[0;34m\"IsRedacted\"\u001b[0m\u001b[0;34m]\u001b[0m\u001b[0;34m,\u001b[0m \u001b[0maxis\u001b[0m\u001b[0;34m=\u001b[0m\u001b[0;36m1\u001b[0m\u001b[0;34m,\u001b[0m \u001b[0minplace\u001b[0m\u001b[0;34m=\u001b[0m\u001b[0;32mTrue\u001b[0m\u001b[0;34m)\u001b[0m\u001b[0;34m\u001b[0m\u001b[0;34m\u001b[0m\u001b[0m\n\u001b[0m\u001b[1;32m      3\u001b[0m \u001b[0;34m\u001b[0m\u001b[0m\n\u001b[1;32m      4\u001b[0m \u001b[0mcutoff_point\u001b[0m \u001b[0;34m=\u001b[0m \u001b[0;36m30\u001b[0m \u001b[0;31m#desired minimum number of chilren screened in a given GEO_ID\u001b[0m\u001b[0;34m\u001b[0m\u001b[0;34m\u001b[0m\u001b[0m\n\u001b[1;32m      5\u001b[0m \u001b[0mdf_selected\u001b[0m \u001b[0;34m=\u001b[0m \u001b[0mdf\u001b[0m\u001b[0;34m[\u001b[0m\u001b[0mdf\u001b[0m\u001b[0;34m[\u001b[0m\u001b[0;34m'NumScreen'\u001b[0m\u001b[0;34m]\u001b[0m \u001b[0;34m>=\u001b[0m \u001b[0mcutoff_point\u001b[0m\u001b[0;34m]\u001b[0m\u001b[0;34m\u001b[0m\u001b[0;34m\u001b[0m\u001b[0m\n",
            "\u001b[0;32m/usr/local/lib/python3.7/dist-packages/pandas/util/_decorators.py\u001b[0m in \u001b[0;36mwrapper\u001b[0;34m(*args, **kwargs)\u001b[0m\n\u001b[1;32m    309\u001b[0m                     \u001b[0mstacklevel\u001b[0m\u001b[0;34m=\u001b[0m\u001b[0mstacklevel\u001b[0m\u001b[0;34m,\u001b[0m\u001b[0;34m\u001b[0m\u001b[0;34m\u001b[0m\u001b[0m\n\u001b[1;32m    310\u001b[0m                 )\n\u001b[0;32m--> 311\u001b[0;31m             \u001b[0;32mreturn\u001b[0m \u001b[0mfunc\u001b[0m\u001b[0;34m(\u001b[0m\u001b[0;34m*\u001b[0m\u001b[0margs\u001b[0m\u001b[0;34m,\u001b[0m \u001b[0;34m**\u001b[0m\u001b[0mkwargs\u001b[0m\u001b[0;34m)\u001b[0m\u001b[0;34m\u001b[0m\u001b[0;34m\u001b[0m\u001b[0m\n\u001b[0m\u001b[1;32m    312\u001b[0m \u001b[0;34m\u001b[0m\u001b[0m\n\u001b[1;32m    313\u001b[0m         \u001b[0;32mreturn\u001b[0m \u001b[0mwrapper\u001b[0m\u001b[0;34m\u001b[0m\u001b[0;34m\u001b[0m\u001b[0m\n",
            "\u001b[0;32m/usr/local/lib/python3.7/dist-packages/pandas/core/frame.py\u001b[0m in \u001b[0;36mdrop\u001b[0;34m(self, labels, axis, index, columns, level, inplace, errors)\u001b[0m\n\u001b[1;32m   4911\u001b[0m             \u001b[0mlevel\u001b[0m\u001b[0;34m=\u001b[0m\u001b[0mlevel\u001b[0m\u001b[0;34m,\u001b[0m\u001b[0;34m\u001b[0m\u001b[0;34m\u001b[0m\u001b[0m\n\u001b[1;32m   4912\u001b[0m             \u001b[0minplace\u001b[0m\u001b[0;34m=\u001b[0m\u001b[0minplace\u001b[0m\u001b[0;34m,\u001b[0m\u001b[0;34m\u001b[0m\u001b[0;34m\u001b[0m\u001b[0m\n\u001b[0;32m-> 4913\u001b[0;31m             \u001b[0merrors\u001b[0m\u001b[0;34m=\u001b[0m\u001b[0merrors\u001b[0m\u001b[0;34m,\u001b[0m\u001b[0;34m\u001b[0m\u001b[0;34m\u001b[0m\u001b[0m\n\u001b[0m\u001b[1;32m   4914\u001b[0m         )\n\u001b[1;32m   4915\u001b[0m \u001b[0;34m\u001b[0m\u001b[0m\n",
            "\u001b[0;32m/usr/local/lib/python3.7/dist-packages/pandas/core/generic.py\u001b[0m in \u001b[0;36mdrop\u001b[0;34m(self, labels, axis, index, columns, level, inplace, errors)\u001b[0m\n\u001b[1;32m   4148\u001b[0m         \u001b[0;32mfor\u001b[0m \u001b[0maxis\u001b[0m\u001b[0;34m,\u001b[0m \u001b[0mlabels\u001b[0m \u001b[0;32min\u001b[0m \u001b[0maxes\u001b[0m\u001b[0;34m.\u001b[0m\u001b[0mitems\u001b[0m\u001b[0;34m(\u001b[0m\u001b[0;34m)\u001b[0m\u001b[0;34m:\u001b[0m\u001b[0;34m\u001b[0m\u001b[0;34m\u001b[0m\u001b[0m\n\u001b[1;32m   4149\u001b[0m             \u001b[0;32mif\u001b[0m \u001b[0mlabels\u001b[0m \u001b[0;32mis\u001b[0m \u001b[0;32mnot\u001b[0m \u001b[0;32mNone\u001b[0m\u001b[0;34m:\u001b[0m\u001b[0;34m\u001b[0m\u001b[0;34m\u001b[0m\u001b[0m\n\u001b[0;32m-> 4150\u001b[0;31m                 \u001b[0mobj\u001b[0m \u001b[0;34m=\u001b[0m \u001b[0mobj\u001b[0m\u001b[0;34m.\u001b[0m\u001b[0m_drop_axis\u001b[0m\u001b[0;34m(\u001b[0m\u001b[0mlabels\u001b[0m\u001b[0;34m,\u001b[0m \u001b[0maxis\u001b[0m\u001b[0;34m,\u001b[0m \u001b[0mlevel\u001b[0m\u001b[0;34m=\u001b[0m\u001b[0mlevel\u001b[0m\u001b[0;34m,\u001b[0m \u001b[0merrors\u001b[0m\u001b[0;34m=\u001b[0m\u001b[0merrors\u001b[0m\u001b[0;34m)\u001b[0m\u001b[0;34m\u001b[0m\u001b[0;34m\u001b[0m\u001b[0m\n\u001b[0m\u001b[1;32m   4151\u001b[0m \u001b[0;34m\u001b[0m\u001b[0m\n\u001b[1;32m   4152\u001b[0m         \u001b[0;32mif\u001b[0m \u001b[0minplace\u001b[0m\u001b[0;34m:\u001b[0m\u001b[0;34m\u001b[0m\u001b[0;34m\u001b[0m\u001b[0m\n",
            "\u001b[0;32m/usr/local/lib/python3.7/dist-packages/pandas/core/generic.py\u001b[0m in \u001b[0;36m_drop_axis\u001b[0;34m(self, labels, axis, level, errors)\u001b[0m\n\u001b[1;32m   4183\u001b[0m                 \u001b[0mnew_axis\u001b[0m \u001b[0;34m=\u001b[0m \u001b[0maxis\u001b[0m\u001b[0;34m.\u001b[0m\u001b[0mdrop\u001b[0m\u001b[0;34m(\u001b[0m\u001b[0mlabels\u001b[0m\u001b[0;34m,\u001b[0m \u001b[0mlevel\u001b[0m\u001b[0;34m=\u001b[0m\u001b[0mlevel\u001b[0m\u001b[0;34m,\u001b[0m \u001b[0merrors\u001b[0m\u001b[0;34m=\u001b[0m\u001b[0merrors\u001b[0m\u001b[0;34m)\u001b[0m\u001b[0;34m\u001b[0m\u001b[0;34m\u001b[0m\u001b[0m\n\u001b[1;32m   4184\u001b[0m             \u001b[0;32melse\u001b[0m\u001b[0;34m:\u001b[0m\u001b[0;34m\u001b[0m\u001b[0;34m\u001b[0m\u001b[0m\n\u001b[0;32m-> 4185\u001b[0;31m                 \u001b[0mnew_axis\u001b[0m \u001b[0;34m=\u001b[0m \u001b[0maxis\u001b[0m\u001b[0;34m.\u001b[0m\u001b[0mdrop\u001b[0m\u001b[0;34m(\u001b[0m\u001b[0mlabels\u001b[0m\u001b[0;34m,\u001b[0m \u001b[0merrors\u001b[0m\u001b[0;34m=\u001b[0m\u001b[0merrors\u001b[0m\u001b[0;34m)\u001b[0m\u001b[0;34m\u001b[0m\u001b[0;34m\u001b[0m\u001b[0m\n\u001b[0m\u001b[1;32m   4186\u001b[0m             \u001b[0mresult\u001b[0m \u001b[0;34m=\u001b[0m \u001b[0mself\u001b[0m\u001b[0;34m.\u001b[0m\u001b[0mreindex\u001b[0m\u001b[0;34m(\u001b[0m\u001b[0;34m**\u001b[0m\u001b[0;34m{\u001b[0m\u001b[0maxis_name\u001b[0m\u001b[0;34m:\u001b[0m \u001b[0mnew_axis\u001b[0m\u001b[0;34m}\u001b[0m\u001b[0;34m)\u001b[0m\u001b[0;34m\u001b[0m\u001b[0;34m\u001b[0m\u001b[0m\n\u001b[1;32m   4187\u001b[0m \u001b[0;34m\u001b[0m\u001b[0m\n",
            "\u001b[0;32m/usr/local/lib/python3.7/dist-packages/pandas/core/indexes/base.py\u001b[0m in \u001b[0;36mdrop\u001b[0;34m(self, labels, errors)\u001b[0m\n\u001b[1;32m   6015\u001b[0m         \u001b[0;32mif\u001b[0m \u001b[0mmask\u001b[0m\u001b[0;34m.\u001b[0m\u001b[0many\u001b[0m\u001b[0;34m(\u001b[0m\u001b[0;34m)\u001b[0m\u001b[0;34m:\u001b[0m\u001b[0;34m\u001b[0m\u001b[0;34m\u001b[0m\u001b[0m\n\u001b[1;32m   6016\u001b[0m             \u001b[0;32mif\u001b[0m \u001b[0merrors\u001b[0m \u001b[0;34m!=\u001b[0m \u001b[0;34m\"ignore\"\u001b[0m\u001b[0;34m:\u001b[0m\u001b[0;34m\u001b[0m\u001b[0;34m\u001b[0m\u001b[0m\n\u001b[0;32m-> 6017\u001b[0;31m                 \u001b[0;32mraise\u001b[0m \u001b[0mKeyError\u001b[0m\u001b[0;34m(\u001b[0m\u001b[0;34mf\"{labels[mask]} not found in axis\"\u001b[0m\u001b[0;34m)\u001b[0m\u001b[0;34m\u001b[0m\u001b[0;34m\u001b[0m\u001b[0m\n\u001b[0m\u001b[1;32m   6018\u001b[0m             \u001b[0mindexer\u001b[0m \u001b[0;34m=\u001b[0m \u001b[0mindexer\u001b[0m\u001b[0;34m[\u001b[0m\u001b[0;34m~\u001b[0m\u001b[0mmask\u001b[0m\u001b[0;34m]\u001b[0m\u001b[0;34m\u001b[0m\u001b[0;34m\u001b[0m\u001b[0m\n\u001b[1;32m   6019\u001b[0m         \u001b[0;32mreturn\u001b[0m \u001b[0mself\u001b[0m\u001b[0;34m.\u001b[0m\u001b[0mdelete\u001b[0m\u001b[0;34m(\u001b[0m\u001b[0mindexer\u001b[0m\u001b[0;34m)\u001b[0m\u001b[0;34m\u001b[0m\u001b[0;34m\u001b[0m\u001b[0m\n",
            "\u001b[0;31mKeyError\u001b[0m: \"['IsRedacted'] not found in axis\""
          ]
        }
      ]
    },
    {
      "cell_type": "code",
      "source": [
        "#the types of each column\n",
        "df.dtypes"
      ],
      "metadata": {
        "id": "WLmIm3dvPH2F"
      },
      "execution_count": null,
      "outputs": []
    },
    {
      "cell_type": "code",
      "source": [
        "#let's see how many null values are in each column\n",
        "df.isnull().sum() #no null values at all omg"
      ],
      "metadata": {
        "id": "Uz5RdvgDVFeS"
      },
      "execution_count": null,
      "outputs": []
    },
    {
      "cell_type": "code",
      "source": [
        "df.drop(labels=[\"IsRedacted\"], axis=1, inplace=True)\n",
        "df.dtypes"
      ],
      "metadata": {
        "id": "fng70jq-Zy9Z"
      },
      "execution_count": null,
      "outputs": []
    },
    {
      "cell_type": "code",
      "source": [],
      "metadata": {
        "id": "iyr8B8dWcSKd"
      },
      "execution_count": null,
      "outputs": []
    },
    {
      "cell_type": "code",
      "source": [
        "#let's print out the number of ppl surveyed for blood levels per GEO_ID\n",
        "df[['GEO_ID','NumScreen']][df['NumScreen']<100].sort_values(by='NumScreen', ascending=True).head(251)"
      ],
      "metadata": {
        "id": "0hETis_pWRs2"
      },
      "execution_count": null,
      "outputs": []
    },
    {
      "cell_type": "code",
      "source": [
        "#just viewing\n",
        "#df[['GEO_ID','NumScreen']][df['NumScreen']<100].sort_values(by='NumScreen', ascending=True).head(251).shape"
      ],
      "metadata": {
        "id": "VSC1KybxY7sB"
      },
      "execution_count": null,
      "outputs": []
    },
    {
      "cell_type": "code",
      "source": [
        "#let's write the code for dropping rows based on their the number of children surveyed for blood lead levles\n",
        "#select rows to make a subset of the original dataset\n",
        "cutoff_point = 30 #desired minimum number of chilren screened in a given GEO_ID\n",
        "df_selected = df[df['NumScreen'] >= cutoff_point]\n",
        "df_selected['NumScreen'].sort_values()"
      ],
      "metadata": {
        "id": "G387ZU3fZNsg"
      },
      "execution_count": null,
      "outputs": []
    },
    {
      "cell_type": "code",
      "source": [
        "df['Asian-H'].sum() + df['Asian-NH'].sum()\n"
      ],
      "metadata": {
        "id": "4DBKIVhtcT_E"
      },
      "execution_count": null,
      "outputs": []
    },
    {
      "cell_type": "markdown",
      "source": [
        "# 2. Data Visualization"
      ],
      "metadata": {
        "id": "4ZvdRGbZb_LP"
      }
    },
    {
      "cell_type": "code",
      "source": [],
      "metadata": {
        "id": "s38L5FDscPuD"
      },
      "execution_count": null,
      "outputs": []
    },
    {
      "cell_type": "code",
      "source": [
        "import matplotlib.pyplot as plt\n",
        "\n",
        "df.boxplot(column = ['NumScreen'])"
      ],
      "metadata": {
        "colab": {
          "base_uri": "https://localhost:8080/",
          "height": 282
        },
        "id": "d77rJE1nfAhI",
        "outputId": "84e7a7ab-f6ec-4f8a-d88b-02236e824dc2"
      },
      "execution_count": null,
      "outputs": [
        {
          "output_type": "execute_result",
          "data": {
            "text/plain": [
              "<matplotlib.axes._subplots.AxesSubplot at 0x7f9b4897a310>"
            ]
          },
          "metadata": {},
          "execution_count": 25
        },
        {
          "output_type": "display_data",
          "data": {
            "text/plain": [
              "<Figure size 432x288 with 1 Axes>"
            ],
            "image/png": "[encoded data removed]"
          },
          "metadata": {
            "needs_background": "light"
          }
        }
      ]
    },
    {
      "cell_type": "code",
      "source": [
        "import seaborn as sns\n",
        "#\n",
        "def create_plots(ColumnNames):\n",
        "  for column in ColumnNames:\n",
        "    plt.figure()\n",
        "    sns.scatterplot(x = column, y = 'Pct5Plus', data = df)\n",
        "create_plots(['Poverty', 'Black', 'Black-NH', 'Pre-1939 Housing', 'VacantHousing', 'OldHousing'])"
      ],
      "metadata": {
        "colab": {
          "base_uri": "https://localhost:8080/",
          "height": 1000
        },
        "id": "ExVtexY5pBU4",
        "outputId": "99c1bf05-256c-4004-8191-3ad3865f10bf"
      },
      "execution_count": null,
      "outputs": [
        {
          "output_type": "display_data",
          "data": {
            "text/plain": [
              "<Figure size 432x288 with 1 Axes>"
            ],
            "image/png": "[encoded data removed]"
          },
          "metadata": {
            "needs_background": "light"
          }
        },
        {
          "output_type": "display_data",
          "data": {
            "text/plain": [
              "<Figure size 432x288 with 1 Axes>"
            ],
            "image/png": "[encoded data removed]"
          },
          "metadata": {
            "needs_background": "light"
          }
        },
        {
          "output_type": "display_data",
          "data": {
            "text/plain": [
              "<Figure size 432x288 with 1 Axes>"
            ],
            "image/png": "[encoded data removed]"
          },
          "metadata": {
            "needs_background": "light"
          }
        },
        {
          "output_type": "display_data",
          "data": {
            "text/plain": [
              "<Figure size 432x288 with 1 Axes>"
            ],
            "image/png": "[encoded data removed]"
          },
          "metadata": {
            "needs_background": "light"
          }
        },
        {
          "output_type": "display_data",
          "data": {
            "text/plain": [
              "<Figure size 432x288 with 1 Axes>"
            ],
            "image/png": "[encoded data removed]"
          },
          "metadata": {
            "needs_background": "light"
          }
        },
        {
          "output_type": "display_data",
          "data": {
            "text/plain": [
              "<Figure size 432x288 with 1 Axes>"
            ],
            "image/png": "[encoded data removed]"
          },
          "metadata": {
            "needs_background": "light"
          }
        }
      ]
    },
    {
      "cell_type": "markdown",
      "source": [
        "# Modeling\n"
      ],
      "metadata": {
        "id": "ezJl1W_hlHCN"
      }
    },
    {
      "cell_type": "code",
      "source": [
        "# Split Up data into training and test data\n",
        "from sklearn.model_selection import train_test_split\n",
        "#x_train, x_test, y_train, y_test = sklearn.model_selection.train_test_split(df[['Poverty','Black']],df['Pct5Plus'])\n",
        "#x_train\n",
        "# x_test\n",
        "#y_train\n",
        "# y_test"
      ],
      "metadata": {
        "id": "ioTBGujtlMcu"
      },
      "execution_count": null,
      "outputs": []
    },
    {
      "cell_type": "code",
      "source": [
        "from sklearn.linear_model import LinearRegression, Lasso, Ridge\n",
        "\n",
        "#model = LinearRegression()\n",
        "\n",
        "#model.fit(x_train, y_train)\n",
        "\n",
        "##model.coef_\n"
      ],
      "metadata": {
        "id": "hZboPpMotcvB"
      },
      "execution_count": null,
      "outputs": []
    },
    {
      "cell_type": "code",
      "source": [
        "#let's find mean squared error\n",
        "#predictions = model.predict(x_test)\n",
        "\n",
        "from sklearn import metrics\n",
        "\n",
        "#mse = metrics.mean_squared_error(y_test, predictions)\n",
        "\n",
        "#rmse = np.sqrt(mse) \n",
        "#mse\n",
        "#rmse"
      ],
      "metadata": {
        "id": "olDbBeDivhSG"
      },
      "execution_count": null,
      "outputs": []
    },
    {
      "cell_type": "code",
      "source": [
        "# make a dataframe with just the independent variables \n",
        "indep_df = df.drop('Pct5Plus', axis = 1)\n",
        "indep_df"
      ],
      "metadata": {
        "id": "Dt-lH8pQz-2O",
        "colab": {
          "base_uri": "https://localhost:8080/",
          "height": 424
        },
        "outputId": "623db6dc-aa5b-483d-f2a5-b456539e38d7"
      },
      "execution_count": null,
      "outputs": [
        {
          "output_type": "execute_result",
          "data": {
            "text/plain": [
              "     Unnamed: 0       GEO_ID  Poverty  Bachelor  White  White-NH  Black  \\\n",
              "0             0  42101000100     11.7      79.8   77.2      73.6   10.5   \n",
              "1             1  42101000402     10.7      74.5   90.0      88.4    2.0   \n",
              "2             3  42101000700     28.8      77.5   65.8      59.1   11.0   \n",
              "3             4  42101000803     14.9      85.3   90.6      88.3    0.5   \n",
              "4             5  42101000804      7.2      80.9   84.4      70.9    2.6   \n",
              "..          ...          ...      ...       ...    ...       ...    ...   \n",
              "241         245  42101038200     24.5       5.4   60.9      50.7   17.2   \n",
              "242         246  42101038300     53.0       5.2   26.9       9.2   30.3   \n",
              "243         247  42101038800      8.7      59.8   54.7      53.4   37.4   \n",
              "244         248  42101038900     25.4      17.9    8.8       8.4   89.8   \n",
              "245         249  42101039000     34.5      12.6   25.3      13.4   59.7   \n",
              "\n",
              "     Black-NH  Asian  Asian-NH  ...  White-H  Black-H  Asian-H  \\\n",
              "0        10.5    8.6       8.6  ...      3.6      0.0      0.0   \n",
              "1         2.0    7.6       7.6  ...      1.6      0.0      0.0   \n",
              "2        11.0   22.0      21.5  ...      6.7      0.0      0.5   \n",
              "3         0.5    5.0       5.0  ...      2.3      0.0      0.0   \n",
              "4         2.6   10.8      10.8  ...     13.5      0.0      0.0   \n",
              "..        ...    ...       ...  ...      ...      ...      ...   \n",
              "241      16.1    1.0       1.0  ...     10.2      1.1      0.0   \n",
              "242      24.2    0.0       0.0  ...     17.7      6.1      0.0   \n",
              "243      37.2    4.1       4.1  ...      1.3      0.2      0.0   \n",
              "244      89.0    0.6       0.6  ...      0.4      0.8      0.0   \n",
              "245      56.3    2.3       2.3  ...     11.9      3.4      0.0   \n",
              "\n",
              "     AmericanIndian-H  NHPI-H  Other-H  Multi-H  OldHousing  NumBll5Plus  \\\n",
              "0                 0.0     0.0      1.8      0.0        65.7          0.0   \n",
              "1                 0.0     0.0      0.0      0.0        19.3          0.0   \n",
              "2                 0.0     0.0      0.0      0.0        53.0          0.0   \n",
              "3                 0.0     0.0      0.0      0.0        36.0          0.0   \n",
              "4                 0.0     0.0      0.0      0.0        41.7          0.0   \n",
              "..                ...     ...      ...      ...         ...          ...   \n",
              "241               0.0     0.0     13.1      0.0        81.9         17.0   \n",
              "242               5.3     0.0     33.1      3.1        78.4         15.0   \n",
              "243               0.0     0.0      0.9      0.0        79.3         11.0   \n",
              "244               0.0     0.0      0.1      0.0        41.1          9.0   \n",
              "245               0.0     0.0      9.8      1.1        44.7         26.0   \n",
              "\n",
              "     NumScreen  \n",
              "0        100.0  \n",
              "1         41.0  \n",
              "2         57.0  \n",
              "3         63.0  \n",
              "4         86.0  \n",
              "..         ...  \n",
              "241      211.0  \n",
              "242      262.0  \n",
              "243      214.0  \n",
              "244      158.0  \n",
              "245      537.0  \n",
              "\n",
              "[246 rows x 33 columns]"
            ],
            "text/html": [
              "\n",
              "  <div id=\"df-14a57d90-95bf-4968-9a90-920ac4313224\">\n",
              "    <div class=\"colab-df-container\">\n",
              "      <div>\n",
              "<style scoped>\n",
              "    .dataframe tbody tr th:only-of-type {\n",
              "        vertical-align: middle;\n",
              "    }\n",
              "\n",
              "    .dataframe tbody tr th {\n",
              "        vertical-align: top;\n",
              "    }\n",
              "\n",
              "    .dataframe thead th {\n",
              "        text-align: right;\n",
              "    }\n",
              "</style>\n",
              "<table border=\"1\" class=\"dataframe\">\n",
              "  <thead>\n",
              "    <tr style=\"text-align: right;\">\n",
              "      <th></th>\n",
              "      <th>Unnamed: 0</th>\n",
              "      <th>GEO_ID</th>\n",
              "      <th>Poverty</th>\n",
              "      <th>Bachelor</th>\n",
              "      <th>White</th>\n",
              "      <th>White-NH</th>\n",
              "      <th>Black</th>\n",
              "      <th>Black-NH</th>\n",
              "      <th>Asian</th>\n",
              "      <th>Asian-NH</th>\n",
              "      <th>...</th>\n",
              "      <th>White-H</th>\n",
              "      <th>Black-H</th>\n",
              "      <th>Asian-H</th>\n",
              "      <th>AmericanIndian-H</th>\n",
              "      <th>NHPI-H</th>\n",
              "      <th>Other-H</th>\n",
              "      <th>Multi-H</th>\n",
              "      <th>OldHousing</th>\n",
              "      <th>NumBll5Plus</th>\n",
              "      <th>NumScreen</th>\n",
              "    </tr>\n",
              "  </thead>\n",
              "  <tbody>\n",
              "    <tr>\n",
              "      <th>0</th>\n",
              "      <td>0</td>\n",
              "      <td>42101000100</td>\n",
              "      <td>11.7</td>\n",
              "      <td>79.8</td>\n",
              "      <td>77.2</td>\n",
              "      <td>73.6</td>\n",
              "      <td>10.5</td>\n",
              "      <td>10.5</td>\n",
              "      <td>8.6</td>\n",
              "      <td>8.6</td>\n",
              "      <td>...</td>\n",
              "      <td>3.6</td>\n",
              "      <td>0.0</td>\n",
              "      <td>0.0</td>\n",
              "      <td>0.0</td>\n",
              "      <td>0.0</td>\n",
              "      <td>1.8</td>\n",
              "      <td>0.0</td>\n",
              "      <td>65.7</td>\n",
              "      <td>0.0</td>\n",
              "      <td>100.0</td>\n",
              "    </tr>\n",
              "    <tr>\n",
              "      <th>1</th>\n",
              "      <td>1</td>\n",
              "      <td>42101000402</td>\n",
              "      <td>10.7</td>\n",
              "      <td>74.5</td>\n",
              "      <td>90.0</td>\n",
              "      <td>88.4</td>\n",
              "      <td>2.0</td>\n",
              "      <td>2.0</td>\n",
              "      <td>7.6</td>\n",
              "      <td>7.6</td>\n",
              "      <td>...</td>\n",
              "      <td>1.6</td>\n",
              "      <td>0.0</td>\n",
              "      <td>0.0</td>\n",
              "      <td>0.0</td>\n",
              "      <td>0.0</td>\n",
              "      <td>0.0</td>\n",
              "      <td>0.0</td>\n",
              "      <td>19.3</td>\n",
              "      <td>0.0</td>\n",
              "      <td>41.0</td>\n",
              "    </tr>\n",
              "    <tr>\n",
              "      <th>2</th>\n",
              "      <td>3</td>\n",
              "      <td>42101000700</td>\n",
              "      <td>28.8</td>\n",
              "      <td>77.5</td>\n",
              "      <td>65.8</td>\n",
              "      <td>59.1</td>\n",
              "      <td>11.0</td>\n",
              "      <td>11.0</td>\n",
              "      <td>22.0</td>\n",
              "      <td>21.5</td>\n",
              "      <td>...</td>\n",
              "      <td>6.7</td>\n",
              "      <td>0.0</td>\n",
              "      <td>0.5</td>\n",
              "      <td>0.0</td>\n",
              "      <td>0.0</td>\n",
              "      <td>0.0</td>\n",
              "      <td>0.0</td>\n",
              "      <td>53.0</td>\n",
              "      <td>0.0</td>\n",
              "      <td>57.0</td>\n",
              "    </tr>\n",
              "    <tr>\n",
              "      <th>3</th>\n",
              "      <td>4</td>\n",
              "      <td>42101000803</td>\n",
              "      <td>14.9</td>\n",
              "      <td>85.3</td>\n",
              "      <td>90.6</td>\n",
              "      <td>88.3</td>\n",
              "      <td>0.5</td>\n",
              "      <td>0.5</td>\n",
              "      <td>5.0</td>\n",
              "      <td>5.0</td>\n",
              "      <td>...</td>\n",
              "      <td>2.3</td>\n",
              "      <td>0.0</td>\n",
              "      <td>0.0</td>\n",
              "      <td>0.0</td>\n",
              "      <td>0.0</td>\n",
              "      <td>0.0</td>\n",
              "      <td>0.0</td>\n",
              "      <td>36.0</td>\n",
              "      <td>0.0</td>\n",
              "      <td>63.0</td>\n",
              "    </tr>\n",
              "    <tr>\n",
              "      <th>4</th>\n",
              "      <td>5</td>\n",
              "      <td>42101000804</td>\n",
              "      <td>7.2</td>\n",
              "      <td>80.9</td>\n",
              "      <td>84.4</td>\n",
              "      <td>70.9</td>\n",
              "      <td>2.6</td>\n",
              "      <td>2.6</td>\n",
              "      <td>10.8</td>\n",
              "      <td>10.8</td>\n",
              "      <td>...</td>\n",
              "      <td>13.5</td>\n",
              "      <td>0.0</td>\n",
              "      <td>0.0</td>\n",
              "      <td>0.0</td>\n",
              "      <td>0.0</td>\n",
              "      <td>0.0</td>\n",
              "      <td>0.0</td>\n",
              "      <td>41.7</td>\n",
              "      <td>0.0</td>\n",
              "      <td>86.0</td>\n",
              "    </tr>\n",
              "    <tr>\n",
              "      <th>...</th>\n",
              "      <td>...</td>\n",
              "      <td>...</td>\n",
              "      <td>...</td>\n",
              "      <td>...</td>\n",
              "      <td>...</td>\n",
              "      <td>...</td>\n",
              "      <td>...</td>\n",
              "      <td>...</td>\n",
              "      <td>...</td>\n",
              "      <td>...</td>\n",
              "      <td>...</td>\n",
              "      <td>...</td>\n",
              "      <td>...</td>\n",
              "      <td>...</td>\n",
              "      <td>...</td>\n",
              "      <td>...</td>\n",
              "      <td>...</td>\n",
              "      <td>...</td>\n",
              "      <td>...</td>\n",
              "      <td>...</td>\n",
              "      <td>...</td>\n",
              "    </tr>\n",
              "    <tr>\n",
              "      <th>241</th>\n",
              "      <td>245</td>\n",
              "      <td>42101038200</td>\n",
              "      <td>24.5</td>\n",
              "      <td>5.4</td>\n",
              "      <td>60.9</td>\n",
              "      <td>50.7</td>\n",
              "      <td>17.2</td>\n",
              "      <td>16.1</td>\n",
              "      <td>1.0</td>\n",
              "      <td>1.0</td>\n",
              "      <td>...</td>\n",
              "      <td>10.2</td>\n",
              "      <td>1.1</td>\n",
              "      <td>0.0</td>\n",
              "      <td>0.0</td>\n",
              "      <td>0.0</td>\n",
              "      <td>13.1</td>\n",
              "      <td>0.0</td>\n",
              "      <td>81.9</td>\n",
              "      <td>17.0</td>\n",
              "      <td>211.0</td>\n",
              "    </tr>\n",
              "    <tr>\n",
              "      <th>242</th>\n",
              "      <td>246</td>\n",
              "      <td>42101038300</td>\n",
              "      <td>53.0</td>\n",
              "      <td>5.2</td>\n",
              "      <td>26.9</td>\n",
              "      <td>9.2</td>\n",
              "      <td>30.3</td>\n",
              "      <td>24.2</td>\n",
              "      <td>0.0</td>\n",
              "      <td>0.0</td>\n",
              "      <td>...</td>\n",
              "      <td>17.7</td>\n",
              "      <td>6.1</td>\n",
              "      <td>0.0</td>\n",
              "      <td>5.3</td>\n",
              "      <td>0.0</td>\n",
              "      <td>33.1</td>\n",
              "      <td>3.1</td>\n",
              "      <td>78.4</td>\n",
              "      <td>15.0</td>\n",
              "      <td>262.0</td>\n",
              "    </tr>\n",
              "    <tr>\n",
              "      <th>243</th>\n",
              "      <td>247</td>\n",
              "      <td>42101038800</td>\n",
              "      <td>8.7</td>\n",
              "      <td>59.8</td>\n",
              "      <td>54.7</td>\n",
              "      <td>53.4</td>\n",
              "      <td>37.4</td>\n",
              "      <td>37.2</td>\n",
              "      <td>4.1</td>\n",
              "      <td>4.1</td>\n",
              "      <td>...</td>\n",
              "      <td>1.3</td>\n",
              "      <td>0.2</td>\n",
              "      <td>0.0</td>\n",
              "      <td>0.0</td>\n",
              "      <td>0.0</td>\n",
              "      <td>0.9</td>\n",
              "      <td>0.0</td>\n",
              "      <td>79.3</td>\n",
              "      <td>11.0</td>\n",
              "      <td>214.0</td>\n",
              "    </tr>\n",
              "    <tr>\n",
              "      <th>244</th>\n",
              "      <td>248</td>\n",
              "      <td>42101038900</td>\n",
              "      <td>25.4</td>\n",
              "      <td>17.9</td>\n",
              "      <td>8.8</td>\n",
              "      <td>8.4</td>\n",
              "      <td>89.8</td>\n",
              "      <td>89.0</td>\n",
              "      <td>0.6</td>\n",
              "      <td>0.6</td>\n",
              "      <td>...</td>\n",
              "      <td>0.4</td>\n",
              "      <td>0.8</td>\n",
              "      <td>0.0</td>\n",
              "      <td>0.0</td>\n",
              "      <td>0.0</td>\n",
              "      <td>0.1</td>\n",
              "      <td>0.0</td>\n",
              "      <td>41.1</td>\n",
              "      <td>9.0</td>\n",
              "      <td>158.0</td>\n",
              "    </tr>\n",
              "    <tr>\n",
              "      <th>245</th>\n",
              "      <td>249</td>\n",
              "      <td>42101039000</td>\n",
              "      <td>34.5</td>\n",
              "      <td>12.6</td>\n",
              "      <td>25.3</td>\n",
              "      <td>13.4</td>\n",
              "      <td>59.7</td>\n",
              "      <td>56.3</td>\n",
              "      <td>2.3</td>\n",
              "      <td>2.3</td>\n",
              "      <td>...</td>\n",
              "      <td>11.9</td>\n",
              "      <td>3.4</td>\n",
              "      <td>0.0</td>\n",
              "      <td>0.0</td>\n",
              "      <td>0.0</td>\n",
              "      <td>9.8</td>\n",
              "      <td>1.1</td>\n",
              "      <td>44.7</td>\n",
              "      <td>26.0</td>\n",
              "      <td>537.0</td>\n",
              "    </tr>\n",
              "  </tbody>\n",
              "</table>\n",
              "<p>246 rows × 33 columns</p>\n",
              "</div>\n",
              "      <button class=\"colab-df-convert\" onclick=\"convertToInteractive('df-14a57d90-95bf-4968-9a90-920ac4313224')\"\n",
              "              title=\"Convert this dataframe to an interactive table.\"\n",
              "              style=\"display:none;\">\n",
              "        \n",
              "  <svg xmlns=\"http://www.w3.org/2000/svg\" height=\"24px\"viewBox=\"0 0 24 24\"\n",
              "       width=\"24px\">\n",
              "    <path d=\"M0 0h24v24H0V0z\" fill=\"none\"/>\n",
              "    <path d=\"M18.56 5.44l.94 2.06.94-2.06 2.06-.94-2.06-.94-.94-2.06-.94 2.06-2.06.94zm-11 1L8.5 8.5l.94-2.06 2.06-.94-2.06-.94L8.5 2.5l-.94 2.06-2.06.94zm10 10l.94 2.06.94-2.06 2.06-.94-2.06-.94-.94-2.06-.94 2.06-2.06.94z\"/><path d=\"M17.41 7.96l-1.37-1.37c-.4-.4-.92-.59-1.43-.59-.52 0-1.04.2-1.43.59L10.3 9.45l-7.72 7.72c-.78.78-.78 2.05 0 2.83L4 21.41c.39.39.9.59 1.41.59.51 0 1.02-.2 1.41-.59l7.78-7.78 2.81-2.81c.8-.78.8-2.07 0-2.86zM5.41 20L4 18.59l7.72-7.72 1.47 1.35L5.41 20z\"/>\n",
              "  </svg>\n",
              "      </button>\n",
              "      \n",
              "  <style>\n",
              "    .colab-df-container {\n",
              "      display:flex;\n",
              "      flex-wrap:wrap;\n",
              "      gap: 12px;\n",
              "    }\n",
              "\n",
              "    .colab-df-convert {\n",
              "      background-color: #E8F0FE;\n",
              "      border: none;\n",
              "      border-radius: 50%;\n",
              "      cursor: pointer;\n",
              "      display: none;\n",
              "      fill: #1967D2;\n",
              "      height: 32px;\n",
              "      padding: 0 0 0 0;\n",
              "      width: 32px;\n",
              "    }\n",
              "\n",
              "    .colab-df-convert:hover {\n",
              "      background-color: #E2EBFA;\n",
              "      box-shadow: 0px 1px 2px rgba(60, 64, 67, 0.3), 0px 1px 3px 1px rgba(60, 64, 67, 0.15);\n",
              "      fill: #174EA6;\n",
              "    }\n",
              "\n",
              "    [theme=dark] .colab-df-convert {\n",
              "      background-color: #3B4455;\n",
              "      fill: #D2E3FC;\n",
              "    }\n",
              "\n",
              "    [theme=dark] .colab-df-convert:hover {\n",
              "      background-color: #434B5C;\n",
              "      box-shadow: 0px 1px 3px 1px rgba(0, 0, 0, 0.15);\n",
              "      filter: drop-shadow(0px 1px 2px rgba(0, 0, 0, 0.3));\n",
              "      fill: #FFFFFF;\n",
              "    }\n",
              "  </style>\n",
              "\n",
              "      <script>\n",
              "        const buttonEl =\n",
              "          document.querySelector('#df-14a57d90-95bf-4968-9a90-920ac4313224 button.colab-df-convert');\n",
              "        buttonEl.style.display =\n",
              "          google.colab.kernel.accessAllowed ? 'block' : 'none';\n",
              "\n",
              "        async function convertToInteractive(key) {\n",
              "          const element = document.querySelector('#df-14a57d90-95bf-4968-9a90-920ac4313224');\n",
              "          const dataTable =\n",
              "            await google.colab.kernel.invokeFunction('convertToInteractive',\n",
              "                                                     [key], {});\n",
              "          if (!dataTable) return;\n",
              "\n",
              "          const docLinkHtml = 'Like what you see? Visit the ' +\n",
              "            '<a target=\"_blank\" href=https://colab.research.google.com/notebooks/data_table.ipynb>data table notebook</a>'\n",
              "            + ' to learn more about interactive tables.';\n",
              "          element.innerHTML = '';\n",
              "          dataTable['output_type'] = 'display_data';\n",
              "          await google.colab.output.renderOutput(dataTable, element);\n",
              "          const docLink = document.createElement('div');\n",
              "          docLink.innerHTML = docLinkHtml;\n",
              "          element.appendChild(docLink);\n",
              "        }\n",
              "      </script>\n",
              "    </div>\n",
              "  </div>\n",
              "  "
            ]
          },
          "metadata": {},
          "execution_count": 7
        }
      ]
    },
    {
      "cell_type": "code",
      "source": [
        "negative_columns = ['Bachelor', 'White', 'White-NH', 'Asian', 'Asian-NH', 'OwnerOccupied', 'White-H']\n",
        "positive_columns = ['Poverty','Black','Black-NH','Pre-1939 Housing','VacantHousing','OldHousing']\n",
        "all_columns = ['Bachelor', 'White', 'White-NH', 'Asian', 'Asian-NH', 'OwnerOccupied', 'White-H','Poverty','Black','Black-NH','Pre-1939 Housing','VacantHousing','OldHousing']\n",
        "#all_columns = negative_columns.append(positive_columns)\n",
        "regression_df = df[all_columns]\n",
        "x_train, x_test, y_train, y_test = sklearn.model_selection.train_test_split(regression_df,df['Pct5Plus'])"
      ],
      "metadata": {
        "id": "VLl3nCp4FXSS"
      },
      "execution_count": null,
      "outputs": []
    },
    {
      "cell_type": "code",
      "source": [
        "# Annie tries to run through all pairs with negative correlations (negative according to our heatmap)\n",
        "# make list of our negative pairs of variables\n",
        "# let's try with pairs of independent variables\n",
        "# Fernando abstracted this into a function for more versatility\n",
        "\n",
        "\n",
        "\n",
        "def variable_select(x_train, x_test, all_columns, test_combos):\n",
        "  indexlst = []\n",
        "  for item in test_combos:\n",
        "    indexlst.append(all_columns.index(item))\n",
        "  x_test_pair = []\n",
        "  for idx in range(len(x_test)):\n",
        "    old_row = x_test[idx]\n",
        "    new_row = []\n",
        "    for idx2 in indexlst:\n",
        "      new_row.append(old_row[idx2])\n",
        "    x_test_pair.append(new_row)\n",
        "  indexlst2 = []\n",
        "  for item2 in test_combos:\n",
        "    indexlst.append(all_columns.index(item))\n",
        "    x_train_pair = []\n",
        "  for idx in range(len(x_train)):\n",
        "    old_row2 = x_train[idx]\n",
        "    new_row2 = []\n",
        "    for idx2 in indexlst:\n",
        "      new_row.append(old_row2[idx2])\n",
        "    x_train_pair.append(new_row2)\n",
        "  return x_train_pair, x_test_pair    \n",
        "  \n",
        "\n",
        "\n",
        "def unique_combos(listx):\n",
        "  \"\"\"\n",
        "  creates a list of every unique pair of elements in a list\n",
        "  \"\"\"\n",
        "  existing_combos = []\n",
        "  for item1 in listx:\n",
        "    for item2 in listx:\n",
        "      lst = [item1,item2]\n",
        "      if [item2,item1] not in existing_combos:\n",
        "        existing_combos.append(lst)\n",
        "  return existing_combos\n",
        "#print(unique_combos(negative_columns))\n",
        "\n",
        "def regression_tester(explanatory_vars,test_var,n,x_train,x_test,y_train,y_test,all_columns):\n",
        "  \"\"\"\n",
        "  returns the rmses from reression models created from two explanatory variables\n",
        "  and a response variable\n",
        "  inputs:\n",
        "    explanatory_vars:\n",
        "    a list of strings, where each string refers to a column in a dataframe\n",
        "    test_var:\n",
        "    a string referring to a column in a dataframe that will be used as the response variable\n",
        "  Outputs:\n",
        "    returns a list of lists [x1,x2,mse,rmse], as well as the combination that produces the \n",
        "    lowest rmse\n",
        "  \"\"\"\n",
        "  total_results = []\n",
        "  #use this to find the lowest rmse\n",
        "  sorting_start = 1000\n",
        "  minimum_rmse = []\n",
        "  test_combos = explanatory_vars\n",
        "  for x2 in test_combos: #note we have quite a bit of repetition going on here\n",
        "        #test_result = []\n",
        "        # split data set\n",
        "        mse_avg = 0\n",
        "        rmse_avg = 0\n",
        "        for i in range(n):\n",
        "          x_train_pair, x_test_pair = x_train[[x2]], x_test[[x2]]  \n",
        "\n",
        "          # train model\n",
        "          model = LinearRegression() #initializes a linear regression model object\n",
        "          model.fit(x_train_pair, y_train) #modifies the object, called \"model\"\n",
        "\n",
        "          # test model\n",
        "          predictions = model.predict(x_test_pair)\n",
        "          intercepts = model.intercept_\n",
        "          coeff = model.coef_\n",
        "          mse = metrics.mean_squared_error(y_test, predictions)\n",
        "          mse_avg += mse\n",
        "          rmse = np.sqrt(mse)\n",
        "          rmse_avg += rmse\n",
        "        rmse_avg = rmse_avg / n\n",
        "        mse_avg = mse_avg / n\n",
        "        #used to find the combination that produces the lowest rmse\n",
        "        if rmse_avg < sorting_start:\n",
        "          #print(rmse)\n",
        "          sorting_start = rmse_avg\n",
        "          minimum_rmse = [x2,rmse_avg,intercepts,coeff]\n",
        "        #adding data from the test to a list\n",
        "        total_results.append([x2,rmse_avg,intercepts,coeff])\n",
        "  total_results.sort(key = lambda pair: pair[1])\n",
        "  return minimum_rmse, total_results\n",
        "positive_corr = regression_tester(positive_columns,'Pct5Plus',1,x_train,x_test,y_train,y_test,all_columns)\n",
        "negative_corr = regression_tester(negative_columns,'Pct5Plus',1,x_train,x_test,y_train,y_test,all_columns)\n",
        "print(negative_corr)\n",
        "print(positive_corr)\n",
        "#this is what the code returns \n",
        "#[['Black', 'OldHousing'], 7.710121879392229, 2.765590272076573]\n",
        "#[['White-NH', 'Asian'], 9.002568668539878, 2.988825000585436]    \n",
        "#black\n",
        "#white"
      ],
      "metadata": {
        "colab": {
          "base_uri": "https://localhost:8080/"
        },
        "id": "NF4hbEMhyjrO",
        "outputId": "ffcaf8c4-cfeb-4749-8469-19db24e0211a"
      },
      "execution_count": null,
      "outputs": [
        {
          "output_type": "stream",
          "name": "stdout",
          "text": [
            "(['White-NH', 3.2277305789805704, 7.887203362071185, array([-0.07221208])], [['White-NH', 3.2277305789805704, 7.887203362071185, array([-0.07221208])], ['White', 3.269735180635719, 8.229279940663996, array([-0.07086687])], ['Bachelor', 3.657673403950039, 7.594867510024394, array([-0.07945759])], ['Asian-NH', 3.978840918446448, 7.064826943177015, array([-0.17352541])], ['Asian', 3.9790940878762626, 7.07004541622703, array([-0.17256541])], ['OwnerOccupied', 4.293570400087825, 8.396875619486554, array([-0.04527412])], ['White-H', 4.313657106713685, 6.473526065653346, array([-0.07504488])]])\n",
            "(['OldHousing', 3.243501610219621, 0.29017884211039835, array([0.09552546])], [['OldHousing', 3.243501610219621, 0.29017884211039835, array([0.09552546])], ['Black', 3.3940840586662318, 2.9081182433502977, array([0.05827829])], ['VacantHousing', 3.4147051106109365, 3.119911857988883, array([0.19374286])], ['Black-NH', 3.438557649702172, 3.0655895544645615, array([0.05692935])], ['Pre-1939 Housing', 3.6042446010763696, 2.989683856059661, array([0.07279184])], ['Poverty', 3.7532392766527543, 2.7388498423579364, array([0.10933745])]])\n"
          ]
        }
      ]
    },
    {
      "cell_type": "code",
      "source": [
        "def model_printer(vars,x_train,x_test):\n",
        "  x_train_pair, x_test_pair = x_train[vars], x_test[vars]  \n",
        "\n",
        "          # train model\n",
        "  model = Lasso(alpha = 11, tol = 10**-5) #initializes a linear regression model object\n",
        "  model.fit(x_train_pair, y_train) #modifies the object, called \"model\"\n",
        "  # test model\n",
        "  predictions = model.predict(x_test_pair)\n",
        "  intercepts = model.intercept_\n",
        "  coeff = model.coef_\n",
        "  mse = metrics.mean_squared_error(y_test, predictions)\n",
        "  rmse = np.sqrt(mse)\n",
        "  return predictions,rmse\n",
        "model_printer(['White','Asian-NH'],x_train,x_test)"
      ],
      "metadata": {
        "colab": {
          "base_uri": "https://localhost:8080/"
        },
        "id": "FC_1hSCWAqcI",
        "outputId": "268d172c-694f-46b1-8efb-7a38a65300da"
      },
      "execution_count": null,
      "outputs": [
        {
          "output_type": "execute_result",
          "data": {
            "text/plain": [
              "(array([4.67110142, 7.82125891, 5.81977763, 5.05399349, 7.68202543,\n",
              "        7.8328617 , 5.87199018, 7.74584077, 6.38831434, 6.46953387,\n",
              "        7.42096265, 2.80305222, 7.74003938, 2.42016015, 4.65369723,\n",
              "        6.17366272, 2.65801735, 6.12145017, 5.83718181, 4.02714657,\n",
              "        4.66530002, 2.33313923, 7.69942961, 3.35998614, 7.8270603 ,\n",
              "        7.06707756, 7.68202543, 7.56599753, 3.49341823, 2.98289547,\n",
              "        7.38615428, 7.06707756, 7.7168338 , 7.82125891, 6.3186976 ,\n",
              "        6.53915061, 6.81181618, 7.65881985, 5.76176368, 7.80385472,\n",
              "        3.00610105, 4.30561353, 5.9706139 , 6.65517851, 6.64357572,\n",
              "        7.80385472, 6.94524826, 6.40571852, 6.13885435, 6.77700781,\n",
              "        7.54859334, 7.54859334, 2.58259921, 6.06343622, 7.21791383,\n",
              "        6.65517851, 2.61160619, 6.02862785, 4.75812234, 7.5950045 ,\n",
              "        4.02134518, 7.67622403]), 3.375177783980339)"
            ]
          },
          "metadata": {},
          "execution_count": 11
        }
      ]
    },
    {
      "cell_type": "code",
      "source": [
        "predictions, rmse = model_printer(['Black', 'Pre-1939 Housing'],x_train,x_test)\n",
        "plt.figure()\n",
        "sns.scatterplot(x = x_test['Black'],y = y_test)\n",
        "sns.lineplot(x = x_test['Black'],y= predictions)\n",
        "# x_line = np.arange(0,101)\n",
        "# y_line = .05969848 * x_line + 0.01003365650673782 + .06860645\n",
        "# sns.lineplot(x_line,y_line)\n",
        "plt.suptitle(\"Linear Regression Model for Black, OldHousing\")\n",
        "plt.title(\"RMSE =2.811928790995724\")\n",
        "plt.show()\n",
        "plt.figure()\n",
        "sns.scatterplot(x = x_test['Pre-1939 Housing'],y = y_test)\n",
        "x_line2 = np.arange(0,101)\n",
        "y_line2 = .06860645 * x_line + 0.01003365650673782 + .05969848\n",
        "sns.lineplot(x_line2,y_line2)\n",
        "plt.suptitle(\"Linear Regression Model for Black, OldHousing\")\n",
        "plt.title(\"RMSE =2.811928790995724\")\n",
        "plt.show()\n"
      ],
      "metadata": {
        "colab": {
          "base_uri": "https://localhost:8080/",
          "height": 788
        },
        "id": "w-CNljMoBvPj",
        "outputId": "cd67f3da-f11a-4ae3-b1e1-3e9e6c0f97a8"
      },
      "execution_count": null,
      "outputs": [
        {
          "output_type": "display_data",
          "data": {
            "text/plain": [
              "<Figure size 432x288 with 1 Axes>"
            ],
            "image/png": "[encoded data removed]"
          },
          "metadata": {
            "needs_background": "light"
          }
        },
        {
          "output_type": "error",
          "ename": "NameError",
          "evalue": "ignored",
          "traceback": [
            "\u001b[0;31m---------------------------------------------------------------------------\u001b[0m",
            "\u001b[0;31mNameError\u001b[0m                                 Traceback (most recent call last)",
            "\u001b[0;32m<ipython-input-14-0d5cac0e21d8>\u001b[0m in \u001b[0;36m<module>\u001b[0;34m\u001b[0m\n\u001b[1;32m     12\u001b[0m \u001b[0msns\u001b[0m\u001b[0;34m.\u001b[0m\u001b[0mscatterplot\u001b[0m\u001b[0;34m(\u001b[0m\u001b[0mx\u001b[0m \u001b[0;34m=\u001b[0m \u001b[0mx_test\u001b[0m\u001b[0;34m[\u001b[0m\u001b[0;34m'Pre-1939 Housing'\u001b[0m\u001b[0;34m]\u001b[0m\u001b[0;34m,\u001b[0m\u001b[0my\u001b[0m \u001b[0;34m=\u001b[0m \u001b[0my_test\u001b[0m\u001b[0;34m)\u001b[0m\u001b[0;34m\u001b[0m\u001b[0;34m\u001b[0m\u001b[0m\n\u001b[1;32m     13\u001b[0m \u001b[0mx_line2\u001b[0m \u001b[0;34m=\u001b[0m \u001b[0mnp\u001b[0m\u001b[0;34m.\u001b[0m\u001b[0marange\u001b[0m\u001b[0;34m(\u001b[0m\u001b[0;36m0\u001b[0m\u001b[0;34m,\u001b[0m\u001b[0;36m101\u001b[0m\u001b[0;34m)\u001b[0m\u001b[0;34m\u001b[0m\u001b[0;34m\u001b[0m\u001b[0m\n\u001b[0;32m---> 14\u001b[0;31m \u001b[0my_line2\u001b[0m \u001b[0;34m=\u001b[0m \u001b[0;36m.06860645\u001b[0m \u001b[0;34m*\u001b[0m \u001b[0mx_line\u001b[0m \u001b[0;34m+\u001b[0m \u001b[0;36m0.01003365650673782\u001b[0m \u001b[0;34m+\u001b[0m \u001b[0;36m.05969848\u001b[0m\u001b[0;34m\u001b[0m\u001b[0;34m\u001b[0m\u001b[0m\n\u001b[0m\u001b[1;32m     15\u001b[0m \u001b[0msns\u001b[0m\u001b[0;34m.\u001b[0m\u001b[0mlineplot\u001b[0m\u001b[0;34m(\u001b[0m\u001b[0mx_line2\u001b[0m\u001b[0;34m,\u001b[0m\u001b[0my_line2\u001b[0m\u001b[0;34m)\u001b[0m\u001b[0;34m\u001b[0m\u001b[0;34m\u001b[0m\u001b[0m\n\u001b[1;32m     16\u001b[0m \u001b[0mplt\u001b[0m\u001b[0;34m.\u001b[0m\u001b[0msuptitle\u001b[0m\u001b[0;34m(\u001b[0m\u001b[0;34m\"Linear Regression Model for Black, OldHousing\"\u001b[0m\u001b[0;34m)\u001b[0m\u001b[0;34m\u001b[0m\u001b[0;34m\u001b[0m\u001b[0m\n",
            "\u001b[0;31mNameError\u001b[0m: name 'x_line' is not defined"
          ]
        },
        {
          "output_type": "display_data",
          "data": {
            "text/plain": [
              "<Figure size 432x288 with 1 Axes>"
            ],
            "image/png": "[encoded data removed]"
          },
          "metadata": {
            "needs_background": "light"
          }
        }
      ]
    },
    {
      "cell_type": "code",
      "source": [
        "plt.figure()\n",
        "sns.scatterplot(x = x_test['White'],y = y_test)\n",
        "x_line3 = np.arange(0,101)\n",
        "y_line3 = -0.06816319 * x_line + 8.903715374355706\n",
        "sns.lineplot(x_line3,y_line3)\n",
        "plt.suptitle(\"Linear Regression Model for White, Asian\")\n",
        "plt.title(\"RMSE = 3.1808201189262504 \")\n",
        "plt.show()"
      ],
      "metadata": {
        "id": "FovGIpHeDsT5",
        "colab": {
          "base_uri": "https://localhost:8080/",
          "height": 497
        },
        "outputId": "3bc3b084-8c44-4136-a1cc-81242cdc3641"
      },
      "execution_count": null,
      "outputs": [
        {
          "output_type": "error",
          "ename": "NameError",
          "evalue": "ignored",
          "traceback": [
            "\u001b[0;31m---------------------------------------------------------------------------\u001b[0m",
            "\u001b[0;31mNameError\u001b[0m                                 Traceback (most recent call last)",
            "\u001b[0;32m<ipython-input-9-38386b834851>\u001b[0m in \u001b[0;36m<module>\u001b[0;34m\u001b[0m\n\u001b[1;32m      2\u001b[0m \u001b[0msns\u001b[0m\u001b[0;34m.\u001b[0m\u001b[0mscatterplot\u001b[0m\u001b[0;34m(\u001b[0m\u001b[0mx\u001b[0m \u001b[0;34m=\u001b[0m \u001b[0mx_test\u001b[0m\u001b[0;34m[\u001b[0m\u001b[0;34m'White'\u001b[0m\u001b[0;34m]\u001b[0m\u001b[0;34m,\u001b[0m\u001b[0my\u001b[0m \u001b[0;34m=\u001b[0m \u001b[0my_test\u001b[0m\u001b[0;34m)\u001b[0m\u001b[0;34m\u001b[0m\u001b[0;34m\u001b[0m\u001b[0m\n\u001b[1;32m      3\u001b[0m \u001b[0mx_line3\u001b[0m \u001b[0;34m=\u001b[0m \u001b[0mnp\u001b[0m\u001b[0;34m.\u001b[0m\u001b[0marange\u001b[0m\u001b[0;34m(\u001b[0m\u001b[0;36m0\u001b[0m\u001b[0;34m,\u001b[0m\u001b[0;36m101\u001b[0m\u001b[0;34m)\u001b[0m\u001b[0;34m\u001b[0m\u001b[0;34m\u001b[0m\u001b[0m\n\u001b[0;32m----> 4\u001b[0;31m \u001b[0my_line3\u001b[0m \u001b[0;34m=\u001b[0m \u001b[0;34m-\u001b[0m\u001b[0;36m0.06816319\u001b[0m \u001b[0;34m*\u001b[0m \u001b[0mx_line\u001b[0m \u001b[0;34m+\u001b[0m \u001b[0;36m8.903715374355706\u001b[0m\u001b[0;34m\u001b[0m\u001b[0;34m\u001b[0m\u001b[0m\n\u001b[0m\u001b[1;32m      5\u001b[0m \u001b[0msns\u001b[0m\u001b[0;34m.\u001b[0m\u001b[0mlineplot\u001b[0m\u001b[0;34m(\u001b[0m\u001b[0mx_line3\u001b[0m\u001b[0;34m,\u001b[0m\u001b[0my_line3\u001b[0m\u001b[0;34m)\u001b[0m\u001b[0;34m\u001b[0m\u001b[0;34m\u001b[0m\u001b[0m\n\u001b[1;32m      6\u001b[0m \u001b[0mplt\u001b[0m\u001b[0;34m.\u001b[0m\u001b[0msuptitle\u001b[0m\u001b[0;34m(\u001b[0m\u001b[0;34m\"Linear Regression Model for White, Asian\"\u001b[0m\u001b[0;34m)\u001b[0m\u001b[0;34m\u001b[0m\u001b[0;34m\u001b[0m\u001b[0m\n",
            "\u001b[0;31mNameError\u001b[0m: name 'x_line' is not defined"
          ]
        },
        {
          "output_type": "display_data",
          "data": {
            "text/plain": [
              "<Figure size 432x288 with 1 Axes>"
            ],
            "image/png": "[encoded data removed]"
          },
          "metadata": {
            "needs_background": "light"
          }
        }
      ]
    },
    {
      "cell_type": "markdown",
      "source": [
        "# Try to Fix Modeling\n"
      ],
      "metadata": {
        "id": "TN4i6dpUp_AJ"
      }
    },
    {
      "cell_type": "code",
      "source": [
        "# Code for Single and Multiple Linear Regression (the other model produced overfitted models)\n",
        "vars = ['Black', 'White', 'Pre-1939 Housing', 'White-NH']\n",
        "\n",
        "# Split Data\n",
        "indep_df = df.drop('Pct5Plus', axis = 1)\n",
        "x_train, x_test, y_train, y_test = sklearn.model_selection.train_test_split(indep_df,df['Pct5Plus'])"
      ],
      "metadata": {
        "id": "K7yD41RSwrZn"
      },
      "execution_count": null,
      "outputs": []
    },
    {
      "cell_type": "code",
      "source": [
        "x_train[vars]"
      ],
      "metadata": {
        "colab": {
          "base_uri": "https://localhost:8080/",
          "height": 424
        },
        "id": "pdMJEbFg1XBR",
        "outputId": "0f55e999-573d-4f6d-a828-f2f7bad8e860"
      },
      "execution_count": null,
      "outputs": [
        {
          "output_type": "execute_result",
          "data": {
            "text/plain": [
              "     Black\n",
              "180   86.0\n",
              "160   65.9\n",
              "106   97.5\n",
              "55    10.5\n",
              "66    96.3\n",
              "..     ...\n",
              "9     78.6\n",
              "79    35.9\n",
              "163   92.6\n",
              "162   97.2\n",
              "85    77.2\n",
              "\n",
              "[184 rows x 1 columns]"
            ],
            "text/html": [
              "\n",
              "  <div id=\"df-a09728a4-187c-4171-be09-0a7599d38585\">\n",
              "    <div class=\"colab-df-container\">\n",
              "      <div>\n",
              "<style scoped>\n",
              "    .dataframe tbody tr th:only-of-type {\n",
              "        vertical-align: middle;\n",
              "    }\n",
              "\n",
              "    .dataframe tbody tr th {\n",
              "        vertical-align: top;\n",
              "    }\n",
              "\n",
              "    .dataframe thead th {\n",
              "        text-align: right;\n",
              "    }\n",
              "</style>\n",
              "<table border=\"1\" class=\"dataframe\">\n",
              "  <thead>\n",
              "    <tr style=\"text-align: right;\">\n",
              "      <th></th>\n",
              "      <th>Black</th>\n",
              "    </tr>\n",
              "  </thead>\n",
              "  <tbody>\n",
              "    <tr>\n",
              "      <th>180</th>\n",
              "      <td>86.0</td>\n",
              "    </tr>\n",
              "    <tr>\n",
              "      <th>160</th>\n",
              "      <td>65.9</td>\n",
              "    </tr>\n",
              "    <tr>\n",
              "      <th>106</th>\n",
              "      <td>97.5</td>\n",
              "    </tr>\n",
              "    <tr>\n",
              "      <th>55</th>\n",
              "      <td>10.5</td>\n",
              "    </tr>\n",
              "    <tr>\n",
              "      <th>66</th>\n",
              "      <td>96.3</td>\n",
              "    </tr>\n",
              "    <tr>\n",
              "      <th>...</th>\n",
              "      <td>...</td>\n",
              "    </tr>\n",
              "    <tr>\n",
              "      <th>9</th>\n",
              "      <td>78.6</td>\n",
              "    </tr>\n",
              "    <tr>\n",
              "      <th>79</th>\n",
              "      <td>35.9</td>\n",
              "    </tr>\n",
              "    <tr>\n",
              "      <th>163</th>\n",
              "      <td>92.6</td>\n",
              "    </tr>\n",
              "    <tr>\n",
              "      <th>162</th>\n",
              "      <td>97.2</td>\n",
              "    </tr>\n",
              "    <tr>\n",
              "      <th>85</th>\n",
              "      <td>77.2</td>\n",
              "    </tr>\n",
              "  </tbody>\n",
              "</table>\n",
              "<p>184 rows × 1 columns</p>\n",
              "</div>\n",
              "      <button class=\"colab-df-convert\" onclick=\"convertToInteractive('df-a09728a4-187c-4171-be09-0a7599d38585')\"\n",
              "              title=\"Convert this dataframe to an interactive table.\"\n",
              "              style=\"display:none;\">\n",
              "        \n",
              "  <svg xmlns=\"http://www.w3.org/2000/svg\" height=\"24px\"viewBox=\"0 0 24 24\"\n",
              "       width=\"24px\">\n",
              "    <path d=\"M0 0h24v24H0V0z\" fill=\"none\"/>\n",
              "    <path d=\"M18.56 5.44l.94 2.06.94-2.06 2.06-.94-2.06-.94-.94-2.06-.94 2.06-2.06.94zm-11 1L8.5 8.5l.94-2.06 2.06-.94-2.06-.94L8.5 2.5l-.94 2.06-2.06.94zm10 10l.94 2.06.94-2.06 2.06-.94-2.06-.94-.94-2.06-.94 2.06-2.06.94z\"/><path d=\"M17.41 7.96l-1.37-1.37c-.4-.4-.92-.59-1.43-.59-.52 0-1.04.2-1.43.59L10.3 9.45l-7.72 7.72c-.78.78-.78 2.05 0 2.83L4 21.41c.39.39.9.59 1.41.59.51 0 1.02-.2 1.41-.59l7.78-7.78 2.81-2.81c.8-.78.8-2.07 0-2.86zM5.41 20L4 18.59l7.72-7.72 1.47 1.35L5.41 20z\"/>\n",
              "  </svg>\n",
              "      </button>\n",
              "      \n",
              "  <style>\n",
              "    .colab-df-container {\n",
              "      display:flex;\n",
              "      flex-wrap:wrap;\n",
              "      gap: 12px;\n",
              "    }\n",
              "\n",
              "    .colab-df-convert {\n",
              "      background-color: #E8F0FE;\n",
              "      border: none;\n",
              "      border-radius: 50%;\n",
              "      cursor: pointer;\n",
              "      display: none;\n",
              "      fill: #1967D2;\n",
              "      height: 32px;\n",
              "      padding: 0 0 0 0;\n",
              "      width: 32px;\n",
              "    }\n",
              "\n",
              "    .colab-df-convert:hover {\n",
              "      background-color: #E2EBFA;\n",
              "      box-shadow: 0px 1px 2px rgba(60, 64, 67, 0.3), 0px 1px 3px 1px rgba(60, 64, 67, 0.15);\n",
              "      fill: #174EA6;\n",
              "    }\n",
              "\n",
              "    [theme=dark] .colab-df-convert {\n",
              "      background-color: #3B4455;\n",
              "      fill: #D2E3FC;\n",
              "    }\n",
              "\n",
              "    [theme=dark] .colab-df-convert:hover {\n",
              "      background-color: #434B5C;\n",
              "      box-shadow: 0px 1px 3px 1px rgba(0, 0, 0, 0.15);\n",
              "      filter: drop-shadow(0px 1px 2px rgba(0, 0, 0, 0.3));\n",
              "      fill: #FFFFFF;\n",
              "    }\n",
              "  </style>\n",
              "\n",
              "      <script>\n",
              "        const buttonEl =\n",
              "          document.querySelector('#df-a09728a4-187c-4171-be09-0a7599d38585 button.colab-df-convert');\n",
              "        buttonEl.style.display =\n",
              "          google.colab.kernel.accessAllowed ? 'block' : 'none';\n",
              "\n",
              "        async function convertToInteractive(key) {\n",
              "          const element = document.querySelector('#df-a09728a4-187c-4171-be09-0a7599d38585');\n",
              "          const dataTable =\n",
              "            await google.colab.kernel.invokeFunction('convertToInteractive',\n",
              "                                                     [key], {});\n",
              "          if (!dataTable) return;\n",
              "\n",
              "          const docLinkHtml = 'Like what you see? Visit the ' +\n",
              "            '<a target=\"_blank\" href=https://colab.research.google.com/notebooks/data_table.ipynb>data table notebook</a>'\n",
              "            + ' to learn more about interactive tables.';\n",
              "          element.innerHTML = '';\n",
              "          dataTable['output_type'] = 'display_data';\n",
              "          await google.colab.output.renderOutput(dataTable, element);\n",
              "          const docLink = document.createElement('div');\n",
              "          docLink.innerHTML = docLinkHtml;\n",
              "          element.appendChild(docLink);\n",
              "        }\n",
              "      </script>\n",
              "    </div>\n",
              "  </div>\n",
              "  "
            ]
          },
          "metadata": {},
          "execution_count": 52
        }
      ]
    },
    {
      "cell_type": "code",
      "source": [
        "# Code for Single Variable Linear Regression\n",
        "# negative_columns = ['Bachelor', 'White', 'White-NH', 'Asian', 'Asian-NH', 'OwnerOccupied', 'White-H']\n",
        "# positive_columns = ['Poverty','Black','Black-NH','Pre-1939 Housing','VacantHousing','OldHousing']\n",
        "# # train model\n",
        "for var in vars:\n",
        "\n",
        "  model = LinearRegression() #initializes a linear regression model object\n",
        "  model.fit(x_train[[var]], y_train) #modifies the object, called \"model\"\n",
        "\n",
        "  # test model\n",
        "  predictions = model.predict(x_test[[var]])\n",
        "  intercepts = model.intercept_\n",
        "  coeff = model.coef_\n",
        "  mse = metrics.mean_squared_error(y_test, predictions)\n",
        "  print(mse)\n",
        "  #vars = negative_columns\n",
        "  plt.figure()\n",
        "  sns.scatterplot(x = x_test[var], y = y_test)\n",
        "  sns.lineplot(x = x_test[var],y= predictions)\n",
        "  plt.suptitle('Regression for ' + str(var) +' and Pct5Plus')\n",
        "  plt.title('MSE = ' + str(mse))\n",
        "  plt.show()"
      ],
      "metadata": {
        "colab": {
          "base_uri": "https://localhost:8080/",
          "height": 1000
        },
        "id": "cML3d1AtqD0y",
        "outputId": "f2a2b2d7-b5eb-48ce-c1ae-ccb2b4eb7ed0"
      },
      "execution_count": null,
      "outputs": [
        {
          "output_type": "stream",
          "name": "stdout",
          "text": [
            "12.365620619641415\n"
          ]
        },
        {
          "output_type": "display_data",
          "data": {
            "text/plain": [
              "<Figure size 432x288 with 1 Axes>"
            ],
            "image/png": "[encoded data removed]"
          },
          "metadata": {
            "needs_background": "light"
          }
        },
        {
          "output_type": "stream",
          "name": "stdout",
          "text": [
            "12.680685663750827\n"
          ]
        },
        {
          "output_type": "display_data",
          "data": {
            "text/plain": [
              "<Figure size 432x288 with 1 Axes>"
            ],
            "image/png": "[encoded data removed]"
          },
          "metadata": {
            "needs_background": "light"
          }
        },
        {
          "output_type": "stream",
          "name": "stdout",
          "text": [
            "12.17040763737278\n"
          ]
        },
        {
          "output_type": "display_data",
          "data": {
            "text/plain": [
              "<Figure size 432x288 with 1 Axes>"
            ],
            "image/png": "[encoded data removed]"
          },
          "metadata": {
            "needs_background": "light"
          }
        },
        {
          "output_type": "stream",
          "name": "stdout",
          "text": [
            "12.868312625009159\n"
          ]
        },
        {
          "output_type": "display_data",
          "data": {
            "text/plain": [
              "<Figure size 432x288 with 1 Axes>"
            ],
            "image/png": "[encoded data removed]"
          },
          "metadata": {
            "needs_background": "light"
          }
        }
      ]
    },
    {
      "cell_type": "code",
      "source": [],
      "metadata": {
        "colab": {
          "base_uri": "https://localhost:8080/",
          "height": 325
        },
        "id": "cVdDUVDGxDhf",
        "outputId": "755652e2-3b11-4145-c320-f788ac001c54"
      },
      "execution_count": null,
      "outputs": [
        {
          "output_type": "stream",
          "name": "stdout",
          "text": [
            "9.08250595502207\n"
          ]
        },
        {
          "output_type": "display_data",
          "data": {
            "text/plain": [
              "<Figure size 432x288 with 1 Axes>"
            ],
            "image/png": "[encoded data removed]"
          },
          "metadata": {
            "needs_background": "light"
          }
        }
      ]
    },
    {
      "cell_type": "code",
      "source": [],
      "metadata": {
        "id": "pyshmI6qqa3K"
      },
      "execution_count": null,
      "outputs": []
    }
  ]
}